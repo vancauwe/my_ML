{
 "cells": [
  {
   "cell_type": "code",
   "execution_count": 3,
   "metadata": {},
   "outputs": [],
   "source": [
    "# Useful starting lines\n",
    "%matplotlib inline\n",
    "import numpy as np\n",
    "import matplotlib.pyplot as plt\n",
    "%load_ext autoreload\n",
    "%autoreload 2"
   ]
  },
  {
   "cell_type": "markdown",
   "metadata": {},
   "source": [
    "# 1 Least squares and linear basis functions models\n",
    "## 1.1 Least squares"
   ]
  },
  {
   "cell_type": "code",
   "execution_count": 4,
   "metadata": {},
   "outputs": [],
   "source": [
    "def least_squares(y, tx):\n",
    "    \"\"\"calculate the least squares solution.\"\"\"\n",
    "    # ***************************************************\n",
    "    # INSERT YOUR CODE HERE\n",
    "    # least squares: \n",
    "    #\n",
    "    Gram_matrix=tx.T.dot(tx)\n",
    "    \n",
    "    other_product=tx.T.dot(y)\n",
    "    \n",
    "    #we cannot be sure that the Gram matrix is invertible (See notes) hence we use the linear system solver\n",
    "    #Gram_matrix_inv=np.linalg.inv(Gram_matrix)\n",
    "    #w_optimal =np.dot(Gram_matrix_inv,other_product)\n",
    "    w_optimal = np.linalg.solve(Gram_matrix, other_product)\n",
    "    #w_optimal = np.linalg.lstsq(Gram_matrix, other_product)\n",
    "    \n",
    "    mse_loss=compute_loss(y,tx,w_optimal)\n",
    "    # returns mse, and optimal weights\n",
    "    # ***************************************************\n",
    "    return mse_loss, w_optimal\n",
    "\n",
    "def michael_least_squares(y, tx):\n",
    "    w = np.linalg.solve(np.dot(tx.T,tx),np.dot(tx.T,y))\n",
    "    e = y - np.dot(tx,w)\n",
    "    loss = np.sqrt(2*(1/(2*len(y))*np.dot(e.T,e)))\n",
    "    return w, loss\n",
    "\n",
    "def compute_loss(y, tx, w):\n",
    "    N=tx.shape[0]\n",
    "    e=y-tx.dot(w)\n",
    "    return ( 1/(2*N) ) * e.T.dot(e)"
   ]
  },
  {
   "cell_type": "markdown",
   "metadata": {},
   "source": [
    "### Load the data\n",
    "Here we will reuse the dataset `height_weight_genders.csv` from previous exercise section to check the correctness of your implementation. Please compare it with your previous result."
   ]
  },
  {
   "cell_type": "code",
   "execution_count": 5,
   "metadata": {},
   "outputs": [],
   "source": [
    "def grid_search(y, tx, w0, w1):\n",
    "    \"\"\"Algorithm for grid search.\"\"\"\n",
    "    losses = np.zeros((len(w0), len(w1)))\n",
    "    \n",
    "    for i in range(len(w0)):\n",
    "        for j in range(len(w1)):\n",
    "            w=[w0[i],w1[j]]\n",
    "            losses[i,j]=compute_loss(y,tx,w)\n",
    "       \n",
    "    return losses[len(w0)-1,len(w1)-1], w0[i], w1[j]\n",
    "\n",
    "def generate_w(num_intervals):\n",
    "    \"\"\"Generate a grid of values for w0 and w1.\"\"\"\n",
    "    w0 = np.linspace(-100, 200, num_intervals)\n",
    "    w1 = np.linspace(-150, 150, num_intervals)\n",
    "    return w0, w1"
   ]
  },
  {
   "cell_type": "code",
   "execution_count": 6,
   "metadata": {},
   "outputs": [],
   "source": [
    "from helpers import *\n",
    "def test_your_least_squares():\n",
    "    height, weight, gender = load_data_from_ex02(sub_sample=False, add_outlier=False)\n",
    "    x, mean_x, std_x = standardize(height)\n",
    "    y, tx = build_model_data(x, weight)\n",
    "    # ***************************************************\n",
    "    # INSERT YOUR CODE HERE\n",
    "    # this code should compare the optimal weights obtained \n",
    "    # by least squares vs. grid search\n",
    "    \n",
    "    grid_w0, grid_w1 = generate_w(num_intervals=10)\n",
    "    grid_loss, w0,w1=grid_search(y, tx, grid_w0, grid_w1)\n",
    "    \n",
    "    \n",
    "    LS_loss,w_optimal=least_squares(y, tx)\n",
    "    \n",
    "    return LS_loss, w_optimal, grid_loss,w0,w1\n",
    "    # ***************************************************\n",
    "    "
   ]
  },
  {
   "cell_type": "markdown",
   "metadata": {},
   "source": [
    "Test it here"
   ]
  },
  {
   "cell_type": "code",
   "execution_count": 7,
   "metadata": {},
   "outputs": [
    {
     "name": "stdout",
     "output_type": "stream",
     "text": [
      "Least Square loss:  15.385887868829403 Least Square weights:  [73.293922   13.47971243] \n",
      "n Grid Loss:  17361.495447089757 Grid Loss weights: 200.0   150.0\n"
     ]
    }
   ],
   "source": [
    "Least_square_loss, Least_square_w, grid_search_loss, w_0, w_1 = test_your_least_squares()\n",
    "print(\"Least Square loss: \",Least_square_loss, \"Least Square weights: \", Least_square_w, \\\n",
    "      \"\\nn\", \"Grid Loss: \",grid_search_loss, \"Grid Loss weights:\", w_0, \" \",w_1)"
   ]
  },
  {
   "cell_type": "markdown",
   "metadata": {},
   "source": [
    "## 1.2 Least squares with a linear basis function model\n",
    "Start from this section, we will use the dataset `dataEx3.csv`.\n",
    "\n",
    "### Implement polynomial basis functions"
   ]
  },
  {
   "cell_type": "code",
   "execution_count": 8,
   "metadata": {
    "scrolled": true
   },
   "outputs": [
    {
     "name": "stdout",
     "output_type": "stream",
     "text": [
      "shape of x (50,)\n",
      "shape of y (50,)\n"
     ]
    }
   ],
   "source": [
    "# load dataset\n",
    "x, y = load_data()\n",
    "print(\"shape of x {}\".format(x.shape))\n",
    "print(\"shape of y {}\".format(y.shape))"
   ]
  },
  {
   "cell_type": "code",
   "execution_count": 9,
   "metadata": {},
   "outputs": [],
   "source": [
    "def build_poly(x, degree):\n",
    "    \"\"\"polynomial basis functions for input data x, for j=0 up to j=degree.\"\"\"\n",
    "    # INSERT YOUR CODE HERE\n",
    "    # polynomial basis function: \n",
    "    theta=np.zeros((x.shape[0],degree+1))\n",
    "    \n",
    "     #X = np.zeros([len(x),degree])\n",
    "    #for i in range(degree):\n",
    "        #X[:,i] = x**(i+1)\n",
    "    #return X        \n",
    "    for j in range(degree):\n",
    "        theta[:,j]=np.power(x,j)\n",
    "    # this function should return the matrix formed\n",
    "    # by applying the polynomial basis to the input data\n",
    "    # ***************************************************\n",
    "    return theta\n",
    "\n",
    "def calculate_mse(e):\n",
    "    \"\"\"Calculate the mse for vector e.\"\"\"\n",
    "    return 1/2*np.mean(e**2)"
   ]
  },
  {
   "cell_type": "markdown",
   "metadata": {},
   "source": [
    "Let us play with polynomial regression. Note that we will use your implemented function `compute_mse`. Please copy and paste your implementation from exercise02."
   ]
  },
  {
   "cell_type": "code",
   "execution_count": 10,
   "metadata": {},
   "outputs": [],
   "source": [
    "#from costs import compute_mse\n",
    "from plots import *\n",
    "\n",
    "def polynomial_regression():\n",
    "    \"\"\"Constructing the polynomial basis function expansion of the data,\n",
    "       and then running least squares regression.\"\"\"\n",
    "    # define parameters\n",
    "    degrees = [1, 3, 7, 12]\n",
    "    \n",
    "    # define the structure of the figure\n",
    "    num_row = 2\n",
    "    num_col = 2\n",
    "    f, axs = plt.subplots(num_row, num_col)\n",
    "\n",
    "    for ind, degree in enumerate(degrees):\n",
    "        # ***************************************************\n",
    "        # INSERT YOUR CODE HERE\n",
    "        # form the data to do polynomial regression.: TODO\n",
    "        theta=build_poly(x, degree)\n",
    "        print(theta.shape[0], theta.shape[1])\n",
    "        print(theta[1:5,:])\n",
    "        # ***************************************************\n",
    "        \n",
    "        # ***************************************************\n",
    "        # INSERT YOUR CODE HERE\n",
    "        # least square and calculate RMSE: TODO\n",
    "        [mse,weights]=least_squares(y, theta)\n",
    "        #[mse, w]=least_squares(y, theta)\n",
    "        rmse=np.sqrt(2*mse)\n",
    "        # ***************************************************\n",
    "        \n",
    "        \n",
    "        #weights, rmse = least_squares(y,X)\n",
    "        \n",
    "        \n",
    "        print(\"Processing {i}th experiment, degree={d}, rmse={loss}\".format(\n",
    "              i=ind + 1, d=degree, loss=rmse))\n",
    "        # plot fit\n",
    "        plot_fitted_curve(\n",
    "            y, x, weights, degree, axs[ind // num_col][ind % num_col])\n",
    "    plt.tight_layout()\n",
    "    plt.savefig(\"visualize_polynomial_regression\")\n",
    "    plt.show()"
   ]
  },
  {
   "cell_type": "markdown",
   "metadata": {},
   "source": [
    "Run polynomial regression"
   ]
  },
  {
   "cell_type": "code",
   "execution_count": 11,
   "metadata": {},
   "outputs": [
    {
     "name": "stdout",
     "output_type": "stream",
     "text": [
      "50 1\n",
      "[[4.8951233 ]\n",
      " [1.86662437]\n",
      " [3.50706129]\n",
      " [3.38087384]]\n",
      "Processing 1th experiment, degree=1, rmse=0.6273904957645271\n",
      "50 3\n",
      "[[  4.8951233   23.96223211 117.29808071]\n",
      " [  1.86662437   3.48428655   6.5038542 ]\n",
      " [  3.50706129  12.29947891  43.13502638]\n",
      " [  3.38087384  11.43030789  38.6444289 ]]\n",
      "Processing 2th experiment, degree=3, rmse=0.2600417055386739\n",
      "50 7\n",
      "[[4.89512330e+00 2.39622321e+01 1.17298081e+02 5.74188568e+02\n",
      "  2.81072384e+03 1.37588397e+04 6.73512170e+04]\n",
      " [1.86662437e+00 3.48428655e+00 6.50385420e+00 1.21402528e+01\n",
      "  2.26612917e+01 4.23001194e+01 7.89584339e+01]\n",
      " [3.50706129e+00 1.22994789e+01 4.31350264e+01 1.51277181e+02\n",
      "  5.30538347e+02 1.86063050e+03 6.52534521e+03]\n",
      " [3.38087384e+00 1.14303079e+01 3.86444289e+01 1.30651939e+02\n",
      "  4.41717721e+02 1.49339188e+03 5.04896955e+03]]\n",
      "Processing 3th experiment, degree=7, rmse=0.25174341909080444\n",
      "50 12\n",
      "[[4.89512330e+00 2.39622321e+01 1.17298081e+02 5.74188568e+02\n",
      "  2.81072384e+03 1.37588397e+04 6.73512170e+04 3.29692511e+05\n",
      "  1.61388549e+06 7.90016848e+06 3.86722988e+07 1.89305671e+08]\n",
      " [1.86662437e+00 3.48428655e+00 6.50385420e+00 1.21402528e+01\n",
      "  2.26612917e+01 4.23001194e+01 7.89584339e+01 1.47385737e+02\n",
      "  2.75113809e+02 5.13534141e+02 9.58575345e+02 1.78930010e+03]\n",
      " [3.50706129e+00 1.22994789e+01 4.31350264e+01 1.51277181e+02\n",
      "  5.30538347e+02 1.86063050e+03 6.52534521e+03 2.28847856e+04\n",
      "  8.02583457e+04 2.81470938e+05 9.87135831e+05 3.46194586e+06]\n",
      " [3.38087384e+00 1.14303079e+01 3.86444289e+01 1.30651939e+02\n",
      "  4.41717721e+02 1.49339188e+03 5.04896955e+03 1.70699291e+04\n",
      "  5.77112765e+04 1.95114545e+05 6.59657660e+05 2.23021932e+06]]\n",
      "Processing 4th experiment, degree=12, rmse=0.24508828496778307\n"
     ]
    },
    {
     "data": {
      "image/png": "[encoded data removed]",
      "text/plain": [
       "<Figure size 432x288 with 4 Axes>"
      ]
     },
     "metadata": {
      "needs_background": "light"
     },
     "output_type": "display_data"
    }
   ],
   "source": [
    "polynomial_regression()"
   ]
  },
  {
   "cell_type": "markdown",
   "metadata": {},
   "source": [
    "# 2 Evaluating model predication performance\n",
    "\n",
    "\n",
    "Let us show the train and test splits for various polynomial degrees. First of all, please fill in the function `split_data()`"
   ]
  },
  {
   "cell_type": "code",
   "execution_count": 12,
   "metadata": {},
   "outputs": [],
   "source": [
    "def split_data(x, y, ratio, seed=1):\n",
    "    \"\"\"\n",
    "    split the dataset based on the split ratio. If ratio is 0.8 \n",
    "    you will have 80% of your data set dedicated to training \n",
    "    and the rest dedicated to testing\n",
    "    \"\"\"\n",
    "    # set seed\n",
    "    np.random.seed(seed)\n",
    "    # ***************************************************\n",
    "    # INSERT YOUR CODE HERE\n",
    "    # split the data based on the given ratio: TODO\n",
    "    num_training=int(x.shape[0]*ratio)\n",
    "    print(num_training)\n",
    "    training_x=x[:num_training]\n",
    "    training_y=y[:num_training]\n",
    "    \n",
    "    testing_x=x[num_training+1:]\n",
    "    testing_y=y[num_training+1:]\n",
    "    # ***************************************************\n",
    "    return training_x, training_y, testing_x, testing_y"
   ]
  },
  {
   "cell_type": "markdown",
   "metadata": {},
   "source": [
    "Then, test your `split_data` function below."
   ]
  },
  {
   "cell_type": "code",
   "execution_count": 13,
   "metadata": {},
   "outputs": [],
   "source": [
    "def train_test_split_demo(x, y, degree, ratio, seed):\n",
    "    \"\"\"polynomial regression with different split ratios and different degrees.\"\"\"\n",
    "    # ***************************************************\n",
    "    # INSERT YOUR CODE HERE\n",
    "    # split the data, and return train and test data: TODO\n",
    "    [training_x, training_y, testing_x, testing_y]=split_data(x, y, ratio,seed=1)\n",
    "    # ***************************************************\n",
    "    \n",
    "    # ***************************************************\n",
    "    # INSERT YOUR CODE HERE\n",
    "    # form train and test data with polynomial basis function: TODO\n",
    "    poly_training=build_poly(training_x, degree)\n",
    "    poly_testing=build_poly(testing_x, degree)\n",
    "    # ***************************************************\n",
    "    \n",
    "    # ***************************************************\n",
    "    # INSERT YOUR CODE HERE\n",
    "    # calcualte weight through least square.: TODO\n",
    "    [mse_tr,weights_tr]=least_squares(training_y, poly_training)\n",
    "    [mse_te,weights_te]=least_squares(testing_y, poly_testing)\n",
    "\n",
    "    # ***************************************************\n",
    "    \n",
    "    # ***************************************************\n",
    "    # INSERT YOUR CODE HERE\n",
    "    # calculate RMSE for train and test data,\n",
    "    # and store them in rmse_tr and rmse_te respectively: \n",
    "    rmse_tr=np.sqrt(2*mse_tr)\n",
    "    rmse_te=np.sqrt(2*mse_te)\n",
    "    # ***************************************************\n",
    "    \n",
    "    print(\"proportion={p}, degree={d}, Training RMSE={tr:.3f}, Testing RMSE={te:.3f}\".format(\n",
    "          p=ratio, d=degree, tr=rmse_tr, te=rmse_te))\n"
   ]
  },
  {
   "cell_type": "code",
   "execution_count": 14,
   "metadata": {},
   "outputs": [
    {
     "name": "stdout",
     "output_type": "stream",
     "text": [
      "45\n",
      "proportion=0.9, degree=1, Training RMSE=0.647, Testing RMSE=0.324\n",
      "45\n",
      "proportion=0.9, degree=3, Training RMSE=0.267, Testing RMSE=0.018\n",
      "45\n",
      "proportion=0.9, degree=7, Training RMSE=0.259, Testing RMSE=0.000\n",
      "45\n",
      "proportion=0.9, degree=12, Training RMSE=0.254, Testing RMSE=0.000\n",
      "25\n",
      "proportion=0.5, degree=1, Training RMSE=0.602, Testing RMSE=0.621\n",
      "25\n",
      "proportion=0.5, degree=3, Training RMSE=0.261, Testing RMSE=0.233\n",
      "25\n",
      "proportion=0.5, degree=7, Training RMSE=0.246, Testing RMSE=0.221\n",
      "25\n",
      "proportion=0.5, degree=12, Training RMSE=0.185, Testing RMSE=0.202\n",
      "5\n",
      "proportion=0.1, degree=1, Training RMSE=0.754, Testing RMSE=0.612\n",
      "5\n",
      "proportion=0.1, degree=3, Training RMSE=0.231, Testing RMSE=0.251\n",
      "5\n",
      "proportion=0.1, degree=7, Training RMSE=0.000, Testing RMSE=0.244\n",
      "5\n",
      "proportion=0.1, degree=12, Training RMSE=0.000, Testing RMSE=0.239\n"
     ]
    }
   ],
   "source": [
    "seed = 6\n",
    "degrees = [1, 3, 7, 12]\n",
    "split_ratios = [0.9, 0.5, 0.1]\n",
    "\n",
    "for split_ratio in split_ratios:\n",
    "    for degree in degrees:\n",
    "        train_test_split_demo(x, y, degree, split_ratio, seed)"
   ]
  },
  {
   "cell_type": "markdown",
   "metadata": {},
   "source": [
    "# 3 Ridge Regression\n",
    "Please fill in the function below."
   ]
  },
  {
   "cell_type": "code",
   "execution_count": 15,
   "metadata": {},
   "outputs": [],
   "source": [
    "def ridge_regression(y, tx, lambda_):\n",
    "    \"\"\"implement ridge regression.\"\"\"\n",
    "    # ***************************************************\n",
    "    # INSERT YOUR CODE HERE\n",
    "    Gram_matrix=tx.T.dot(tx)\n",
    "    print(Gram_matrix)\n",
    "    other_product=tx.T.dot(y)\n",
    "    lambda_prime=lambda_*2*tx.shape[0]\n",
    "    \n",
    "    w_optimal = np.linalg.solve((Gram_matrix+np.dot(lambda_prime,np.identity(Gram_matrix.shape[0]))), other_product)\n",
    "    \n",
    "    mse_loss=compute_loss(y,tx,w_optimal)\n",
    "    # returns mse, and optimal weights\n",
    "    # ***************************************************\n",
    "    \n",
    "    # ***************************************************\n",
    "    return mse_loss, w_optimal"
   ]
  },
  {
   "cell_type": "code",
   "execution_count": 16,
   "metadata": {},
   "outputs": [],
   "source": [
    "def ridge_regression_demo(x, y, degree, ratio, seed):\n",
    "    \"\"\"ridge regression demo.\"\"\"\n",
    "    # define parameter\n",
    "    lambdas = np.logspace(-5, 0, 15)\n",
    "    # ***************************************************\n",
    "    # INSERT YOUR CODE HERE\n",
    "    # split the data, and return train and test data: \n",
    "    [training_x, training_y, testing_x, testing_y]=split_data(x, y, ratio,seed=1)\n",
    "    # ***************************************************\n",
    "   \n",
    "    # ***************************************************\n",
    "    # INSERT YOUR CODE HERE\n",
    "    # form train and test data with polynomial basis function: \n",
    "    poly_training=build_poly(training_x, degree)\n",
    "    poly_testing=build_poly(testing_x, degree)\n",
    "    # ***************************************************\n",
    "    \n",
    "\n",
    "    rmse_tr = []\n",
    "    rmse_te = []\n",
    "    for ind, lambda_ in enumerate(lambdas):\n",
    "        # ***************************************************\n",
    "        # INSERT YOUR CODE HERE\n",
    "        # ridge regression with a given lambda\n",
    "        [mse_ridge_tr,w_ridge_tr]=ridge_regression(training_y, poly_training, lambda_)\n",
    "        [mse_ridge_te,w_ridge_te]=ridge_regression(testing_y, poly_testing, lambda_)\n",
    "        \n",
    "        rmse_tr.append(np.sqrt(2*mse_ridge_tr))\n",
    "        rmse_te.append(np.sqrt(2*mse_ridge_te))\n",
    "        # ***************************************************\n",
    "        print(\"proportion={p}, degree={d}, lambda={l:.3f}, Training RMSE={tr:.3f}, Testing RMSE={te:.3f}\".format(\n",
    "               p=ratio, d=degree, l=lambda_, tr=rmse_tr[ind], te=rmse_te[ind]))\n",
    "        \n",
    "    # Plot the obtained results\n",
    "    plot_train_test(rmse_tr, rmse_te, lambdas, degree)\n"
   ]
  },
  {
   "cell_type": "code",
   "execution_count": 17,
   "metadata": {},
   "outputs": [
    {
     "name": "stdout",
     "output_type": "stream",
     "text": [
      "25\n",
      "[[3.06163463e+02 1.51331029e+03 8.04531416e+03 4.46085352e+04\n",
      "  2.54001757e+05 1.47230271e+06 8.64167229e+06]\n",
      " [1.51331029e+03 8.04531416e+03 4.46085352e+04 2.54001757e+05\n",
      "  1.47230271e+06 8.64167229e+06 5.11893436e+07]\n",
      " [8.04531416e+03 4.46085352e+04 2.54001757e+05 1.47230271e+06\n",
      "  8.64167229e+06 5.11893436e+07 3.05337904e+08]\n",
      " [4.46085352e+04 2.54001757e+05 1.47230271e+06 8.64167229e+06\n",
      "  5.11893436e+07 3.05337904e+08 1.83123854e+09]\n",
      " [2.54001757e+05 1.47230271e+06 8.64167229e+06 5.11893436e+07\n",
      "  3.05337904e+08 1.83123854e+09 1.10308589e+10]\n",
      " [1.47230271e+06 8.64167229e+06 5.11893436e+07 3.05337904e+08\n",
      "  1.83123854e+09 1.10308589e+10 6.66864211e+10]\n",
      " [8.64167229e+06 5.11893436e+07 3.05337904e+08 1.83123854e+09\n",
      "  1.10308589e+10 6.66864211e+10 4.04368520e+11]]\n",
      "[[3.67096107e+02 1.69719266e+03 8.26171797e+03 4.16315753e+04\n",
      "  2.15042150e+05 1.13172140e+06 6.04414980e+06]\n",
      " [1.69719266e+03 8.26171797e+03 4.16315753e+04 2.15042150e+05\n",
      "  1.13172140e+06 6.04414980e+06 3.26661307e+07]\n",
      " [8.26171797e+03 4.16315753e+04 2.15042150e+05 1.13172140e+06\n",
      "  6.04414980e+06 3.26661307e+07 1.78293927e+08]\n",
      " [4.16315753e+04 2.15042150e+05 1.13172140e+06 6.04414980e+06\n",
      "  3.26661307e+07 1.78293927e+08 9.81232850e+08]\n",
      " [2.15042150e+05 1.13172140e+06 6.04414980e+06 3.26661307e+07\n",
      "  1.78293927e+08 9.81232850e+08 5.43837881e+09]\n",
      " [1.13172140e+06 6.04414980e+06 3.26661307e+07 1.78293927e+08\n",
      "  9.81232850e+08 5.43837881e+09 3.03248101e+10]\n",
      " [6.04414980e+06 3.26661307e+07 1.78293927e+08 9.81232850e+08\n",
      "  5.43837881e+09 3.03248101e+10 1.69982915e+11]]\n"
     ]
    },
    {
     "ename": "NameError",
     "evalue": "name 'sqrt' is not defined",
     "output_type": "error",
     "traceback": [
      "\u001b[0;31m---------------------------------------------------------------------------\u001b[0m",
      "\u001b[0;31mNameError\u001b[0m                                 Traceback (most recent call last)",
      "\u001b[0;32m<ipython-input-17-86ef65072c8d>\u001b[0m in \u001b[0;36m<module>\u001b[0;34m()\u001b[0m\n\u001b[1;32m      4\u001b[0m \u001b[0mlambda_\u001b[0m \u001b[0;34m=\u001b[0m \u001b[0;36m0\u001b[0m\u001b[0;34m\u001b[0m\u001b[0m\n\u001b[1;32m      5\u001b[0m \u001b[0;31m#ridge_regression(y,x,lambda_)\u001b[0m\u001b[0;34m\u001b[0m\u001b[0;34m\u001b[0m\u001b[0m\n\u001b[0;32m----> 6\u001b[0;31m \u001b[0mridge_regression_demo\u001b[0m\u001b[0;34m(\u001b[0m\u001b[0mx\u001b[0m\u001b[0;34m,\u001b[0m \u001b[0my\u001b[0m\u001b[0;34m,\u001b[0m \u001b[0mdegree\u001b[0m\u001b[0;34m,\u001b[0m \u001b[0msplit_ratio\u001b[0m\u001b[0;34m,\u001b[0m \u001b[0mseed\u001b[0m\u001b[0;34m)\u001b[0m\u001b[0;34m\u001b[0m\u001b[0m\n\u001b[0m",
      "\u001b[0;32m<ipython-input-16-68982ecd564d>\u001b[0m in \u001b[0;36mridge_regression_demo\u001b[0;34m(x, y, degree, ratio, seed)\u001b[0m\n\u001b[1;32m     26\u001b[0m         \u001b[0;34m[\u001b[0m\u001b[0mmse_ridge_te\u001b[0m\u001b[0;34m,\u001b[0m\u001b[0mw_ridge_te\u001b[0m\u001b[0;34m]\u001b[0m\u001b[0;34m=\u001b[0m\u001b[0mridge_regression\u001b[0m\u001b[0;34m(\u001b[0m\u001b[0mtesting_y\u001b[0m\u001b[0;34m,\u001b[0m \u001b[0mpoly_testing\u001b[0m\u001b[0;34m,\u001b[0m \u001b[0mlambda_\u001b[0m\u001b[0;34m)\u001b[0m\u001b[0;34m\u001b[0m\u001b[0m\n\u001b[1;32m     27\u001b[0m \u001b[0;34m\u001b[0m\u001b[0m\n\u001b[0;32m---> 28\u001b[0;31m         \u001b[0mrmse_tr\u001b[0m\u001b[0;34m.\u001b[0m\u001b[0mappend\u001b[0m\u001b[0;34m(\u001b[0m\u001b[0msqrt\u001b[0m\u001b[0;34m(\u001b[0m\u001b[0;36m2\u001b[0m\u001b[0;34m*\u001b[0m\u001b[0mmse_ridge_tr\u001b[0m\u001b[0;34m)\u001b[0m\u001b[0;34m)\u001b[0m\u001b[0;34m\u001b[0m\u001b[0m\n\u001b[0m\u001b[1;32m     29\u001b[0m         \u001b[0mrmse_te\u001b[0m\u001b[0;34m.\u001b[0m\u001b[0mappend\u001b[0m\u001b[0;34m(\u001b[0m\u001b[0msqrt\u001b[0m\u001b[0;34m(\u001b[0m\u001b[0;36m2\u001b[0m\u001b[0;34m*\u001b[0m\u001b[0mmse_ridge_te\u001b[0m\u001b[0;34m)\u001b[0m\u001b[0;34m)\u001b[0m\u001b[0;34m\u001b[0m\u001b[0m\n\u001b[1;32m     30\u001b[0m         \u001b[0;31m# ***************************************************\u001b[0m\u001b[0;34m\u001b[0m\u001b[0;34m\u001b[0m\u001b[0m\n",
      "\u001b[0;31mNameError\u001b[0m: name 'sqrt' is not defined"
     ]
    }
   ],
   "source": [
    "seed = 56\n",
    "degree = 7\n",
    "split_ratio = 0.5\n",
    "lambda_ = 0\n",
    "#ridge_regression(y,x,lambda_)\n",
    "ridge_regression_demo(x, y, degree, split_ratio, seed)"
   ]
  },
  {
   "cell_type": "code",
   "execution_count": null,
   "metadata": {},
   "outputs": [],
   "source": []
  }
 ],
 "metadata": {
  "anaconda-cloud": {},
  "kernelspec": {
   "display_name": "Python 3",
   "language": "python",
   "name": "python3"
  },
  "language_info": {
   "codemirror_mode": {
    "name": "ipython",
    "version": 3
   },
   "file_extension": ".py",
   "mimetype": "text/x-python",
   "name": "python",
   "nbconvert_exporter": "python",
   "pygments_lexer": "ipython3",
   "version": "3.6.6"
  }
 },
 "nbformat": 4,
 "nbformat_minor": 1
}
